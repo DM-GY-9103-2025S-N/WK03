{
  "cells": [
    {
      "cell_type": "markdown",
      "metadata": {
        "id": "QshK8s21WBrf"
      },
      "source": [
        "# WK03A\n",
        "\n",
        "## Getting started with Python syntax"
      ]
    },
    {
      "cell_type": "markdown",
      "metadata": {},
      "source": [
        "### Notebooks\n",
        "\n",
        "Are nice.\n",
        "\n",
        "And they are very useful when we want to experiment with code because we can select which pieces of code we want to run, and in which order.\n",
        "\n",
        "Notebooks are also great for documenting experiments because we can add [Markdown](https://www.markdownguide.org/) code in special `markdonwn` cells to style the descriptions of our experiments."
      ]
    },
    {
      "cell_type": "code",
      "execution_count": null,
      "metadata": {},
      "outputs": [],
      "source": [
        "# We can write code in code cells and select which cells/code we want to execute and when\n",
        "\n",
        "# Executing this cell creates a variable x with the value \"hello\"\n",
        "# And then we print the content of the variable x\n",
        "\n",
        "x = \"hello\"\n",
        "print(x)"
      ]
    },
    {
      "cell_type": "code",
      "execution_count": null,
      "metadata": {},
      "outputs": [],
      "source": [
        "# Cells also display the result of the very last line of code\n",
        "\n",
        "x = \"goodbye\"\n",
        "x"
      ]
    },
    {
      "cell_type": "markdown",
      "metadata": {},
      "source": [
        "In the cell above, the very last expression evaluates to \"goodbye\", so the cell prints that or us."
      ]
    },
    {
      "cell_type": "code",
      "execution_count": null,
      "metadata": {},
      "outputs": [],
      "source": [
        "# Like any programming language, if we don't use any control logic,\n",
        "# our interpreter is just a very complex algebra/boolean calculator\n",
        "\n",
        "x = 214\n",
        "y = 1682\n",
        "\n",
        "z = x * y\n",
        "\n",
        "t = 0.2\n",
        "d = 12 * x + y * t ** 2\n",
        "\n",
        "dd_dt = 2*y*t\n",
        "\n",
        "print(\"z:\", z)\n",
        "print(\"d:\", d)\n",
        "print(\"dd/dt:\", dd_dt)"
      ]
    },
    {
      "cell_type": "code",
      "execution_count": null,
      "metadata": {},
      "outputs": [],
      "source": [
        "# We can also use smart/formatted/templated strings to mix constant text with variable\n",
        "\n",
        "print(f\"The value of d is {d}, while the value of dd_dt is {dd_dt}\")\n",
        "\n",
        "# Using :.<n>f we can adjust the number of decimal places we print\n",
        "print(f\"The value of d is {d}, while the value of dd_dt is {dd_dt:.3f}\")"
      ]
    },
    {
      "cell_type": "code",
      "execution_count": null,
      "metadata": {},
      "outputs": [],
      "source": [
        "# We can also use Python to evaluate Boolean expressions\n",
        "\n",
        "current_hour = 17\n",
        "current_minute = 46\n",
        "\n",
        "current_week_day = \"thursday\"\n",
        "\n",
        "N9103_started = current_week_day == \"thursday\" and current_hour >= 11\n",
        "\n",
        "print(f\"Conservation class already started today: {N9103_started}\")"
      ]
    },
    {
      "cell_type": "code",
      "execution_count": null,
      "metadata": {},
      "outputs": [],
      "source": [
        "# TODO: add logic to make the above statement print true only if DMGY 9103N is currently happening\n",
        "# HINT: DMGY 9103N is running if it has started and not ended\n",
        "\n",
        "N9103_ended = current_week_day == \"thursday\" and (current_hour >= 14 or (current_hour == 13 and current_minute >= 50))\n",
        "\n",
        "print(f\"Conservation class is currently running: {N9103_started and (not N9103_ended)}\")"
      ]
    },
    {
      "cell_type": "markdown",
      "metadata": {
        "id": "7Hf8SXUwWOho"
      },
      "source": [
        "### if / else\n",
        "\n",
        "JavaScript / C++ / Java:\n",
        "\n",
        "```js\n",
        "const n = 8;\n",
        "\n",
        "if (n > 10) {\n",
        "  print(\"n is greater than 10\");\n",
        "} else if (n > 5) {\n",
        "  print(\"n is between 5 and 10\");\n",
        "} else {\n",
        "  print(\"n is 5 or less\");\n",
        "}\n",
        "```\n",
        "\n",
        "Python:"
      ]
    },
    {
      "cell_type": "code",
      "execution_count": null,
      "metadata": {},
      "outputs": [],
      "source": [
        "n = 8\n",
        "\n",
        "if n > 10:\n",
        "  print(\"n is greater than 10\")\n",
        "elif n > 5:\n",
        "  print(\"n is between 5 and 10\")\n",
        "else:\n",
        "  print(\"n is 5 or less\")"
      ]
    },
    {
      "cell_type": "markdown",
      "metadata": {},
      "source": [
        "### iterate with counter\n",
        "\n",
        "JavaScript / C++ / Java:\n",
        "\n",
        "```js\n",
        "for (let c = 0; c < 10; c++) {\n",
        "  print(c);\n",
        "}\n",
        "\n",
        "for (let c = 10; c < 50; c+=5) {\n",
        "  print(c);\n",
        "}\n",
        "```\n",
        "\n",
        "Python:\n",
        "\n",
        "In Python, the structure of the for loop is different because we're forced to iterate over a sequence of objects.\n",
        "\n",
        "When we want to create a loop with a counter we can use the built-in `range()` function to create sequences of integers to iterate over.\n",
        "\n",
        "<img src=\"./imgs/range.jpg\" width=\"500px\" />\n"
      ]
    },
    {
      "cell_type": "code",
      "execution_count": null,
      "metadata": {},
      "outputs": [],
      "source": [
        "for c in range(10):\n",
        "  print(c)"
      ]
    },
    {
      "cell_type": "code",
      "execution_count": null,
      "metadata": {},
      "outputs": [],
      "source": [
        "# TODO: print the result of the range() expression.\n",
        "print(range(0, 10))\n",
        "\n",
        "# TODO: What's its type ?\n",
        "print(type(range(0, 10)))\n",
        "\n",
        "# TODO: How can we turn a range object into a regular list ?\n",
        "list(range(0, 10))"
      ]
    },
    {
      "cell_type": "markdown",
      "metadata": {},
      "source": [
        "### Sequences with steps\n",
        "\n",
        "The third argument to the `range()` functions specifies the step between items in the resulting sequence.\n",
        "\n",
        "For example, to create a sequence of integers from $10$ to $50$, while skipping by $5$ we can use:"
      ]
    },
    {
      "cell_type": "code",
      "execution_count": null,
      "metadata": {},
      "outputs": [],
      "source": [
        "for c in range(10, 50, 5):\n",
        "  print(c)"
      ]
    },
    {
      "cell_type": "markdown",
      "metadata": {},
      "source": [
        "### Print all numbers between $100$ and $200$ that end in $3$"
      ]
    },
    {
      "cell_type": "code",
      "execution_count": null,
      "metadata": {},
      "outputs": [],
      "source": [
        "# TODO: Print numbers between 100 and 200 that end in 3\n",
        "for n in range(103, 200, 10):\n",
        "  print(n)"
      ]
    },
    {
      "cell_type": "markdown",
      "metadata": {},
      "source": [
        "### iterate over array/list\n",
        "\n",
        "JavaScript / C++ / Java:\n",
        "\n",
        "```js\n",
        "const array = [ 0, 1, 3, 6, 2, 7, 13, 20, 12, 21, 11, 22 ];\n",
        "\n",
        "for (let idx = 0; idx < array.length; idx++) {\n",
        "  print(array[idx]);\n",
        "}\n",
        "```\n",
        "\n",
        "Python:"
      ]
    },
    {
      "cell_type": "code",
      "execution_count": null,
      "metadata": {},
      "outputs": [],
      "source": [
        "array = [ 0, 1, 3, 6, 2, 7, 13, 20, 12, 21, 11, 22 ]\n",
        "\n",
        "for val in array:\n",
        "  print(val)"
      ]
    },
    {
      "cell_type": "markdown",
      "metadata": {},
      "source": [
        "### Functions\n",
        "\n",
        "In Python we declare functions using the `def` keyword:"
      ]
    },
    {
      "cell_type": "code",
      "execution_count": null,
      "metadata": {},
      "outputs": [],
      "source": [
        "def sqrt(x):\n",
        "  return x ** 0.5\n",
        "\n",
        "array = [ 0, 1, 3, 6, 2, 7, 13, 20, 12, 21, 11, 22 ]\n",
        "\n",
        "for val in array:\n",
        "  print(f\"The square root of {val} is {sqrt(val)}\")"
      ]
    },
    {
      "cell_type": "markdown",
      "metadata": {},
      "source": [
        "### Lists (syntax)\n",
        "\n",
        "Create, access, iterate, sort:"
      ]
    },
    {
      "cell_type": "code",
      "execution_count": null,
      "metadata": {},
      "outputs": [],
      "source": [
        "# create a list\n",
        "xs = [1, 3, 2, 3, 5, 12, 80, 23, 56, 78]\n",
        "\n",
        "# access items\n",
        "print(xs[0], xs[4])"
      ]
    },
    {
      "cell_type": "code",
      "execution_count": null,
      "metadata": {},
      "outputs": [],
      "source": [
        "# access items ??\n",
        "print(xs[-1], xs[-5])"
      ]
    },
    {
      "cell_type": "code",
      "execution_count": null,
      "metadata": {},
      "outputs": [],
      "source": [
        "# iterate\n",
        "for x in xs:\n",
        "  print(x)"
      ]
    },
    {
      "cell_type": "code",
      "execution_count": null,
      "metadata": {},
      "outputs": [],
      "source": [
        "# sort\n",
        "\n",
        "sorted_xs = sorted(xs)\n",
        "print(sorted_xs)\n",
        "\n",
        "sorted_xs_rev = sorted(xs, reverse=True)\n",
        "print(sorted_xs_rev)"
      ]
    },
    {
      "cell_type": "markdown",
      "metadata": {},
      "source": [
        "### Dictionaries / Objects / Hash Maps (syntax)\n",
        "\n",
        "Create, access, iterate, sort:"
      ]
    },
    {
      "cell_type": "code",
      "execution_count": null,
      "metadata": {},
      "outputs": [],
      "source": [
        "# create a dictionary\n",
        "vs = {\n",
        "  \"name\": \"thiago\",\n",
        "  \"id\": \"tgh8114\",\n",
        "  \"enrolled\": 2022,\n",
        "  \"grades\": [86, 92, 95]\n",
        "}\n",
        "\n",
        "# access items\n",
        "print(vs[\"name\"], vs[\"grades\"])"
      ]
    },
    {
      "cell_type": "code",
      "execution_count": null,
      "metadata": {},
      "outputs": [],
      "source": [
        "# iterate\n",
        "\n",
        "for key, val in vs.items():\n",
        "  print(key, val)"
      ]
    }
  ],
  "metadata": {
    "colab": {
      "authorship_tag": "ABX9TyPxe2qYxIG7EblrvD1C4Pmv",
      "provenance": []
    },
    "kernelspec": {
      "display_name": "Python 3.9.17 ('hf-model')",
      "language": "python",
      "name": "python3"
    },
    "language_info": {
      "codemirror_mode": {
        "name": "ipython",
        "version": 3
      },
      "file_extension": ".py",
      "mimetype": "text/x-python",
      "name": "python",
      "nbconvert_exporter": "python",
      "pygments_lexer": "ipython3",
      "version": "3.10.15"
    },
    "vscode": {
      "interpreter": {
        "hash": "89e384cab7c47fb35ec95d2248b519cf922ee174880eed636c26cdfb6c4df768"
      }
    }
  },
  "nbformat": 4,
  "nbformat_minor": 0
}
