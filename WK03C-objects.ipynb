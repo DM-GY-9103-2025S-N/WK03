{
  "cells": [
    {
      "cell_type": "markdown",
      "metadata": {
        "id": "Ty-DVrJlaN1T"
      },
      "source": [
        "# WK03C\n",
        "\n",
        "## Some exercises with objects"
      ]
    },
    {
      "cell_type": "markdown",
      "metadata": {
        "id": "s-e8uvrIca09"
      },
      "source": [
        "## Setup\n",
        "\n",
        "Let's import some helper functions and libraries"
      ]
    },
    {
      "cell_type": "code",
      "execution_count": null,
      "metadata": {
        "id": "uHIQDMJ-WTei"
      },
      "outputs": [],
      "source": [
        "import random"
      ]
    },
    {
      "cell_type": "markdown",
      "metadata": {},
      "source": [
        "## Objects"
      ]
    },
    {
      "cell_type": "markdown",
      "metadata": {},
      "source": [
        "### Creating objects"
      ]
    },
    {
      "cell_type": "code",
      "execution_count": null,
      "metadata": {},
      "outputs": [],
      "source": [
        "my_info = {\n",
        "  \"name\": \"thiago\",\n",
        "  \"id\": 1010,\n",
        "  \"zip\": 11001,\n",
        "  \"grades\": [90, 80, 60],\n",
        "  \"attendance\": [True, True, False, True, True],\n",
        "  \"final grade\": \"A\"\n",
        "}\n",
        "my_info"
      ]
    },
    {
      "cell_type": "markdown",
      "metadata": {},
      "source": [
        "### Accessing values at specific keys"
      ]
    },
    {
      "cell_type": "code",
      "execution_count": null,
      "metadata": {},
      "outputs": [],
      "source": [
        "print(my_info[\"name\"])\n",
        "print(my_info[\"grades\"])"
      ]
    },
    {
      "cell_type": "markdown",
      "metadata": {},
      "source": [
        "### Modifying and Appending new key/values"
      ]
    },
    {
      "cell_type": "code",
      "execution_count": null,
      "metadata": {},
      "outputs": [],
      "source": [
        "my_info[\"zip\"] = 11202\n",
        "my_info[\"course\"] = 9103\n",
        "my_info[\"section\"] = \"N\"\n",
        "my_info"
      ]
    },
    {
      "cell_type": "markdown",
      "metadata": {},
      "source": [
        "### Iterate over an object"
      ]
    },
    {
      "cell_type": "code",
      "execution_count": null,
      "metadata": {},
      "outputs": [],
      "source": [
        "obj = {\n",
        "  \"name\": \"thiago\",\n",
        "  \"id\": \"tgh\"\n",
        "}\n",
        "\n",
        "for key, val in obj.items():\n",
        "  print(key, \":\", val)"
      ]
    },
    {
      "cell_type": "markdown",
      "metadata": {},
      "source": [
        "### Iterating over keys, values and items\n",
        "\n",
        "Using an object's `keys()`, `values()` and `items()` functions.\n",
        "\n",
        "[Documentation](https://docs.python.org/3/tutorial/datastructures.html#looping-techniques)."
      ]
    },
    {
      "cell_type": "code",
      "execution_count": null,
      "metadata": {},
      "outputs": [],
      "source": [
        "# TODO use my_info.keys(), .values() and .items() to print contents of object"
      ]
    },
    {
      "cell_type": "markdown",
      "metadata": {},
      "source": [
        "## List of objects\n",
        "\n",
        "### Iterate over list of objects"
      ]
    },
    {
      "cell_type": "code",
      "execution_count": null,
      "metadata": {},
      "outputs": [],
      "source": [
        "objs = [{\n",
        "  \"name\": \"thiago\",\n",
        "  \"id\": \"tgh\"\n",
        "},\n",
        "{\n",
        "  \"name\": \"lex\",\n",
        "  \"id\": \"lxg\"\n",
        "}]\n",
        "\n",
        "for obj in objs:\n",
        "  for key, val in obj.items():\n",
        "    print(key, \":\", val)"
      ]
    },
    {
      "cell_type": "markdown",
      "metadata": {},
      "source": [
        "### Create a list of objects\n",
        "\n",
        "Create a list of 10 objects with random heights and brooklyn zip codes.\n",
        "\n",
        "```python\n",
        "my_data = [\n",
        "  {\"height\": [60, 70], \"zip\": [11200, 11250]},\n",
        "  {\"height\": [60, 70], \"zip\": [11200, 11250]},\n",
        "  {\"height\": [60, 70], \"zip\": [11200, 11250]},\n",
        "  ...\n",
        "]\n",
        "```"
      ]
    },
    {
      "cell_type": "code",
      "execution_count": null,
      "metadata": {},
      "outputs": [],
      "source": [
        "# TODO: create list of random objects\n",
        "my_data = []\n",
        "\n",
        "my_data"
      ]
    },
    {
      "cell_type": "markdown",
      "metadata": {},
      "source": [
        "### More values\n",
        "\n",
        "Let's create a list of 3 random grades for each member of the list and another item with their computed average"
      ]
    },
    {
      "cell_type": "code",
      "execution_count": null,
      "metadata": {},
      "outputs": [],
      "source": [
        "# TODO: first, append grade list to objects"
      ]
    },
    {
      "cell_type": "markdown",
      "metadata": {},
      "source": [
        "### Average\n",
        "\n",
        "<img src=\"./imgs/average00.jpg\" width=\"500px\" />\n",
        "\n",
        "<img src=\"./imgs/average01.jpg\" width=\"500px\" />"
      ]
    },
    {
      "cell_type": "code",
      "execution_count": null,
      "metadata": {},
      "outputs": [],
      "source": [
        "# TODO: compute and store average of grades"
      ]
    },
    {
      "cell_type": "markdown",
      "metadata": {},
      "source": [
        "### Get highest and lowest average grades\n",
        "\n",
        "First, get all average grades, then use `min()`/`max()`"
      ]
    },
    {
      "cell_type": "code",
      "execution_count": null,
      "metadata": {},
      "outputs": [],
      "source": [
        "grades = []\n",
        "for obj in my_data:\n",
        "  grades.append(obj[\"avg\"])\n",
        "\n",
        "min(grades), max(grades)"
      ]
    },
    {
      "cell_type": "markdown",
      "metadata": {},
      "source": [
        "### Sort objects by average grades\n",
        "\n",
        "We could first get all the average grades and then sort the new list:"
      ]
    },
    {
      "cell_type": "code",
      "execution_count": null,
      "metadata": {},
      "outputs": [],
      "source": [
        "grades = []\n",
        "for obj in my_data:\n",
        "  grades.append(obj[\"avg\"])\n",
        "\n",
        "by_grade = sorted(grades)\n",
        "\n",
        "print(\"original:\\n\", grades)\n",
        "print(\"sorted:\\n\", by_grade)"
      ]
    },
    {
      "cell_type": "markdown",
      "metadata": {},
      "source": [
        "### But now we don't have the other associated information with each grade.\n",
        "\n",
        "We want to sort the list while keeping the objects together.\n",
        "\n",
        "Would be nice to be able to do something like this, just like with a `list`:"
      ]
    },
    {
      "cell_type": "code",
      "execution_count": null,
      "metadata": {},
      "outputs": [],
      "source": [
        "by_grade = sorted(my_data)\n",
        "print(by_grade)"
      ]
    },
    {
      "cell_type": "markdown",
      "metadata": {},
      "source": [
        "### Sorting Objects\n",
        "\n",
        "For lists of objects we have to tell python which values to compare to determine their order.\n",
        "\n",
        "We do this by defining a key function.\n",
        "\n",
        "Key functions receive one argument, that can be an object, a list, a class member, anything... and they return one numerical value.\n",
        "\n",
        "This one numerical value is used to order the original list."
      ]
    },
    {
      "cell_type": "code",
      "execution_count": null,
      "metadata": {},
      "outputs": [],
      "source": [
        "# this key function receives a student-info object with {height, grade, zip, etc}\n",
        "# and should return just the average grade value\n",
        "def gradeKey(person):\n",
        "  return person[\"avg\"]\n",
        "\n",
        "# then we can just use it when we call sorted()\n",
        "by_grade = sorted(my_data, key=gradeKey)\n",
        "\n",
        "by_grade"
      ]
    },
    {
      "cell_type": "code",
      "execution_count": null,
      "metadata": {},
      "outputs": [],
      "source": [
        "# TODO: sort by first assignment grade"
      ]
    },
    {
      "cell_type": "markdown",
      "metadata": {},
      "source": [
        "### `min()`/`max()` functions also work with a `key` argument:"
      ]
    },
    {
      "cell_type": "code",
      "execution_count": null,
      "metadata": {},
      "outputs": [],
      "source": [
        "# student with highest average grade\n",
        "max_by_grade = max(my_data, key=gradeKey)\n",
        "\n",
        "# student with lowest score on first assignment\n",
        "min_by_hw01 = min(my_data, key=gradeKey)\n",
        "\n",
        "print(max_by_grade)\n",
        "print(min_by_hw01)"
      ]
    },
    {
      "cell_type": "markdown",
      "metadata": {},
      "source": [
        "### Combining objects\n",
        "\n",
        "Just like we can combine multiple lists in Python using the `+` operator, we can combine multiple objects using the `|` operator."
      ]
    },
    {
      "cell_type": "code",
      "execution_count": null,
      "metadata": {},
      "outputs": [],
      "source": [
        "name = {\"name\": \"thiago\"}\n",
        "grade = {\"grade\": \"A\"}\n",
        "zipcode = {\"zip\": 11211}\n",
        "\n",
        "z = name | grade | zipcode\n",
        "print(z)"
      ]
    }
  ],
  "metadata": {
    "colab": {
      "authorship_tag": "ABX9TyMhuytAcbldogywX05phpmj",
      "provenance": []
    },
    "kernelspec": {
      "display_name": "Python 3",
      "name": "python3"
    },
    "language_info": {
      "codemirror_mode": {
        "name": "ipython",
        "version": 3
      },
      "file_extension": ".py",
      "mimetype": "text/x-python",
      "name": "python",
      "nbconvert_exporter": "python",
      "pygments_lexer": "ipython3",
      "version": "3.10.15"
    }
  },
  "nbformat": 4,
  "nbformat_minor": 0
}
