{
 "cells": [
  {
   "cell_type": "markdown",
   "metadata": {},
   "source": [
    "# WK03D\n",
    "\n",
    "## Some exercises with lists of objects (dataset)"
   ]
  },
  {
   "cell_type": "markdown",
   "metadata": {},
   "source": [
    "## Setup\n",
    "\n",
    "Let's import some helper functions and libraries"
   ]
  },
  {
   "cell_type": "code",
   "execution_count": null,
   "metadata": {},
   "outputs": [],
   "source": [
    "import json"
   ]
  },
  {
   "cell_type": "markdown",
   "metadata": {},
   "source": [
    "### Load Data\n",
    "\n",
    "Here we are opening a JSON file, reading the JSON string in the file, turning it into Python values and loading them into Python lists/dictionaries."
   ]
  },
  {
   "cell_type": "code",
   "execution_count": null,
   "metadata": {},
   "outputs": [],
   "source": [
    "with open(\"./data/LA_housing.json\", \"r\") as fp:\n",
    "  houses = json.load(fp)"
   ]
  },
  {
   "cell_type": "markdown",
   "metadata": {},
   "source": [
    "### Take a look at data\n",
    "\n",
    "We can print the content and the type of our variables."
   ]
  },
  {
   "cell_type": "code",
   "execution_count": null,
   "metadata": {},
   "outputs": [],
   "source": [
    "print(houses)\n",
    "type(houses)"
   ]
  },
  {
   "cell_type": "code",
   "execution_count": null,
   "metadata": {},
   "outputs": [],
   "source": [
    "print(houses[0])\n",
    "type(houses[0])"
   ]
  },
  {
   "cell_type": "code",
   "execution_count": null,
   "metadata": {},
   "outputs": [],
   "source": [
    "print(houses[0].keys())\n",
    "\n",
    "# TODO print type of each member of the dictionary"
   ]
  },
  {
   "cell_type": "markdown",
   "metadata": {},
   "source": [
    "### Explore\n",
    "\n",
    "Explore the data and answer the following questions:\n",
    "\n",
    "- How many instances are there in our dataset?\n",
    "- What's the value of the most expensive house?\n",
    "- What's the max number of bedrooms in a house?\n",
    "- What's the number of bedrooms in the house with the most rooms?\n",
    "- What's the number of rooms in the house with the most bedrooms?"
   ]
  },
  {
   "cell_type": "code",
   "execution_count": null,
   "metadata": {},
   "outputs": [],
   "source": [
    "# Work on 04A here\n",
    "\n",
    "# How many instances are there in our dataset?\n",
    "# This is the same as asking \"how many rows\" or, in this case, \"how many houses\"\n",
    "\n",
    "\n",
    "# What's the value of the most expensive house?\n",
    "\n",
    "\n",
    "# What's the number of bedrooms in the house with the most bedrooms?\n",
    "\n",
    "\n",
    "# What's the number of bedrooms in the house with the most rooms?\n",
    "\n",
    "\n",
    "# What's the number of rooms in the house with the most bedrooms?\n"
   ]
  }
 ],
 "metadata": {
  "kernelspec": {
   "display_name": "9103",
   "language": "python",
   "name": "python3"
  },
  "language_info": {
   "codemirror_mode": {
    "name": "ipython",
    "version": 3
   },
   "file_extension": ".py",
   "mimetype": "text/x-python",
   "name": "python",
   "nbconvert_exporter": "python",
   "pygments_lexer": "ipython3",
   "version": "3.10.15"
  }
 },
 "nbformat": 4,
 "nbformat_minor": 2
}
