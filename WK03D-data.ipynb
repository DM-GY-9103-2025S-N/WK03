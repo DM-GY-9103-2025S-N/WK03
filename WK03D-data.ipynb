{
 "cells": [
  {
   "cell_type": "markdown",
   "metadata": {},
   "source": [
    "# WK03D\n",
    "\n",
    "## Some exercises with lists of objects (dataset)"
   ]
  },
  {
   "cell_type": "markdown",
   "metadata": {},
   "source": [
    "## Setup\n",
    "\n",
    "Let's import some helper functions and libraries"
   ]
  },
  {
   "cell_type": "code",
   "execution_count": null,
   "metadata": {},
   "outputs": [],
   "source": [
    "import json"
   ]
  },
  {
   "cell_type": "markdown",
   "metadata": {},
   "source": [
    "### Load Data\n",
    "\n",
    "Here we are opening a JSON file, reading the JSON string in the file, turning it into Python values and loading them into Python lists/dictionaries."
   ]
  },
  {
   "cell_type": "code",
   "execution_count": null,
   "metadata": {},
   "outputs": [],
   "source": [
    "with open(\"./data/LA_housing.json\", \"r\") as fp:\n",
    "  houses = json.load(fp)"
   ]
  },
  {
   "cell_type": "markdown",
   "metadata": {},
   "source": [
    "### Take a look at data\n",
    "\n",
    "We can print the content and the type of our variables."
   ]
  },
  {
   "cell_type": "code",
   "execution_count": null,
   "metadata": {},
   "outputs": [],
   "source": [
    "print(type(houses))\n",
    "print(houses)"
   ]
  },
  {
   "cell_type": "code",
   "execution_count": null,
   "metadata": {},
   "outputs": [],
   "source": [
    "print(type(houses[0]))\n",
    "#print(houses[0])\n",
    "houses[0:5]"
   ]
  },
  {
   "cell_type": "code",
   "execution_count": null,
   "metadata": {},
   "outputs": [],
   "source": [
    "print(houses[0].keys())\n",
    "\n",
    "# TODO print type of each member of the dictionary\n",
    "for key,val in houses[0].items():\n",
    "  print(key, type(val))"
   ]
  },
  {
   "cell_type": "markdown",
   "metadata": {},
   "source": [
    "### Explore\n",
    "\n",
    "Explore the data and answer the following questions:\n",
    "\n",
    "- How many instances are there in our dataset?\n",
    "- What's the value of the most expensive house?\n",
    "- What's the max number of bedrooms in a house?\n",
    "- What's the number of bedrooms in the house with the most rooms?\n",
    "- What's the number of rooms in the house with the most bedrooms?"
   ]
  },
  {
   "cell_type": "code",
   "execution_count": null,
   "metadata": {},
   "outputs": [],
   "source": [
    "# How many instances are there in our dataset?\n",
    "# This is the same as asking \"how many rows\" or, in this case, \"how many houses\"\n",
    "print(\"Number of houses\", len(houses))\n",
    "\n",
    "# What's the value of the most expensive house?\n",
    "def byValue(H):\n",
    "  return H[\"value\"]\n",
    "\n",
    "houses_by_value = sorted(houses, key=byValue)\n",
    "most_expensive_house = houses_by_value[-1]\n",
    "highest_price_value = most_expensive_house[\"value\"]\n",
    "print(\"Most expensive value:\", highest_price_value)\n",
    "\n",
    "# What's the number of bedrooms in the house with the most bedrooms?\n",
    "def byBedrooms(H):\n",
    "  return H[\"bedrooms\"]\n",
    "\n",
    "houses_by_bedrooms = sorted(houses, key=byBedrooms)\n",
    "house_with_most_bedrooms = houses_by_bedrooms[-1]\n",
    "most_bedrooms_value = house_with_most_bedrooms[\"bedrooms\"]\n",
    "print(\"Most bedrooms number: \", most_bedrooms_value)\n",
    "\n",
    "\n",
    "# What's the number of bedrooms in the house with the most rooms?\n",
    "def byRooms(H):\n",
    "  return H[\"rooms\"]\n",
    "\n",
    "houses_by_rooms = sorted(houses, key=byRooms)\n",
    "house_with_most_rooms = houses_by_rooms[-1]\n",
    "bedrooms_in_most_rooms = house_with_most_rooms[\"bedrooms\"]\n",
    "print(\"Bedrooms in house with most rooms: \", bedrooms_in_most_rooms)\n",
    "\n",
    "# What's the number of rooms in the house with the most bedrooms?\n",
    "rooms_in_most_bedrooms = house_with_most_bedrooms[\"rooms\"]\n",
    "print(\"Rooms in house with most Bedrooms: \", rooms_in_most_bedrooms)"
   ]
  }
 ],
 "metadata": {
  "kernelspec": {
   "display_name": "9103",
   "language": "python",
   "name": "python3"
  },
  "language_info": {
   "codemirror_mode": {
    "name": "ipython",
    "version": 3
   },
   "file_extension": ".py",
   "mimetype": "text/x-python",
   "name": "python",
   "nbconvert_exporter": "python",
   "pygments_lexer": "ipython3",
   "version": "3.10.15"
  }
 },
 "nbformat": 4,
 "nbformat_minor": 2
}
