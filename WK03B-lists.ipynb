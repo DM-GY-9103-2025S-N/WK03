{
  "cells": [
    {
      "cell_type": "markdown",
      "metadata": {
        "id": "Ty-DVrJlaN1T"
      },
      "source": [
        "# WK02B\n",
        "\n",
        "## Some exercises with lists"
      ]
    },
    {
      "cell_type": "markdown",
      "metadata": {
        "id": "s-e8uvrIca09"
      },
      "source": [
        "## Setup\n",
        "\n",
        "Let's import some helper functions and libraries"
      ]
    },
    {
      "cell_type": "code",
      "execution_count": null,
      "metadata": {
        "id": "uHIQDMJ-WTei"
      },
      "outputs": [],
      "source": [
        "import random"
      ]
    },
    {
      "cell_type": "markdown",
      "metadata": {},
      "source": [
        "## Lists\n",
        "\n",
        "Let's explore some other functions we can call with lists.\n",
        "\n",
        "In order to have a more interesting list to work with, let's create a list of random integers.\n",
        "\n",
        "The Python documentation has information about the `random` library [HERE](https://docs.python.org/3/library/random.html)."
      ]
    },
    {
      "cell_type": "markdown",
      "metadata": {
        "id": "hBs429yN9wYE"
      },
      "source": [
        "### Create a list of 1000 random numbers between 0 and 1000"
      ]
    },
    {
      "cell_type": "code",
      "execution_count": null,
      "metadata": {
        "id": "36_m35zIyN2h"
      },
      "outputs": [],
      "source": [
        "# TODO: with for loop\n",
        "list_of_randoms = []\n",
        "\n",
        "print(len(list_of_randoms))\n"
      ]
    },
    {
      "cell_type": "markdown",
      "metadata": {
        "id": "7Aw4WiDS92MU"
      },
      "source": [
        "### List indexing\n",
        "\n",
        "Print all the numbers and their index"
      ]
    },
    {
      "cell_type": "code",
      "execution_count": null,
      "metadata": {},
      "outputs": [],
      "source": [
        "# TODO: using len() and range()"
      ]
    },
    {
      "cell_type": "code",
      "execution_count": null,
      "metadata": {
        "id": "h3ochjQlzQ4e"
      },
      "outputs": [],
      "source": [
        "# TODO: using enumerate()"
      ]
    },
    {
      "cell_type": "markdown",
      "metadata": {},
      "source": [
        "### Specific indexing\n",
        "\n",
        "Indexing from the front is normal:"
      ]
    },
    {
      "cell_type": "code",
      "execution_count": null,
      "metadata": {},
      "outputs": [],
      "source": [
        "print(list_of_randoms)\n",
        "print(list_of_randoms[0])\n",
        "print(list_of_randoms[2])\n",
        "print(list_of_randoms[8])"
      ]
    },
    {
      "cell_type": "markdown",
      "metadata": {},
      "source": [
        "But, Python also lets us index from the back with negative numbers:"
      ]
    },
    {
      "cell_type": "code",
      "execution_count": null,
      "metadata": {},
      "outputs": [],
      "source": [
        "print(list_of_randoms[-1])\n",
        "print(list_of_randoms[-2])\n",
        "print(list_of_randoms[-8])"
      ]
    },
    {
      "cell_type": "markdown",
      "metadata": {
        "id": "XfMx81LP-b_h"
      },
      "source": [
        "### Find the largest element on a list\n",
        "\n",
        "Go through all of the elements and compare each element to the largest number seen so far.\n",
        "\n",
        "Update the `largest` variable if we encounter a larger number."
      ]
    },
    {
      "cell_type": "code",
      "execution_count": null,
      "metadata": {
        "id": "J7eLIAnwxODF"
      },
      "outputs": [],
      "source": [
        "# TODO: find max\n",
        "largest = list_of_randoms[0]\n",
        "\n",
        "print(largest)"
      ]
    },
    {
      "cell_type": "markdown",
      "metadata": {
        "id": "OQoQSbbC-7Gg"
      },
      "source": [
        "### Find the smallest element on a list\n",
        "\n",
        "Go through all of the elements and compare each element to the smallest number seen so far.\n",
        "\n",
        "Update the `smallest` variable if we encounter a smaller number."
      ]
    },
    {
      "cell_type": "code",
      "execution_count": null,
      "metadata": {
        "id": "5OSOQAVc3s3X"
      },
      "outputs": [],
      "source": [
        "# TODO: find min\n",
        "smallest = list_of_randoms[0]\n",
        "\n",
        "print(smallest)"
      ]
    },
    {
      "cell_type": "markdown",
      "metadata": {
        "id": "rFL_vZuR_A2Z"
      },
      "source": [
        "### Find the sum of all elements on a list\n",
        "\n",
        "Go through all of the elements and add their values to an accumulator variable."
      ]
    },
    {
      "cell_type": "code",
      "execution_count": null,
      "metadata": {
        "id": "g4FjyViC4T_p"
      },
      "outputs": [],
      "source": [
        "# TODO: find sum\n",
        "my_sum = 0\n",
        "\n",
        "print(my_sum)"
      ]
    },
    {
      "cell_type": "markdown",
      "metadata": {
        "id": "VlI-SzPa_Ja4"
      },
      "source": [
        "### Python has built in functions for doing these things"
      ]
    },
    {
      "cell_type": "code",
      "execution_count": null,
      "metadata": {
        "id": "ruGHhgm05p_t"
      },
      "outputs": [],
      "source": [
        "min(list_of_randoms), max(list_of_randoms), sum(list_of_randoms)"
      ]
    },
    {
      "cell_type": "markdown",
      "metadata": {},
      "source": [
        "### Find the 5 largest and 5 smallest numbers on a list\n",
        "\n",
        "# 🤔"
      ]
    },
    {
      "cell_type": "markdown",
      "metadata": {
        "id": "8sYq0tQj6z0e"
      },
      "source": [
        "### Python has a function for sorting a list that could help"
      ]
    },
    {
      "cell_type": "code",
      "execution_count": null,
      "metadata": {
        "id": "DJlfGTZZ6SJt"
      },
      "outputs": [],
      "source": [
        "my_sorted_list = sorted(list_of_randoms)\n",
        "\n",
        "print(list_of_randoms)\n",
        "print(my_sorted_list)"
      ]
    },
    {
      "cell_type": "markdown",
      "metadata": {},
      "source": [
        "#### Order from largest to smallest\n",
        "\n",
        "Sort, then reverse:"
      ]
    },
    {
      "cell_type": "code",
      "execution_count": null,
      "metadata": {},
      "outputs": [],
      "source": [
        "my_reversed_sorted_list = list(reversed(my_sorted_list))\n",
        "\n",
        "print(list_of_randoms)\n",
        "print(my_sorted_list)\n",
        "print(my_reversed_sorted_list)"
      ]
    },
    {
      "cell_type": "markdown",
      "metadata": {},
      "source": [
        "#### Order from largest to smallest\n",
        "\n",
        "Sort in reverse:"
      ]
    },
    {
      "cell_type": "code",
      "execution_count": null,
      "metadata": {},
      "outputs": [],
      "source": [
        "my_reversed_sorted_list = sorted(list_of_randoms, reverse=True)\n",
        "\n",
        "print(list_of_randoms)\n",
        "print(my_sorted_list)\n",
        "print(my_reversed_sorted_list)"
      ]
    },
    {
      "cell_type": "markdown",
      "metadata": {
        "id": "zIJjJ8rx_W8s"
      },
      "source": [
        "### With a sorted list we can more easily print the 5 smallest and 5 largest elements\n"
      ]
    },
    {
      "cell_type": "code",
      "execution_count": null,
      "metadata": {
        "id": "ytoCAy4p_dCZ"
      },
      "outputs": [],
      "source": [
        "my_sorted_list[ :5], my_sorted_list[-5: ]"
      ]
    },
    {
      "cell_type": "markdown",
      "metadata": {},
      "source": [
        "### Slicing\n",
        "\n",
        "Python has a built-in mechanism for getting sub-sections of a list called *slicing*.\n",
        "\n",
        "Instead of a single index, we specify two values in the square bracket, separated by a `:`, to specify where our slice starts and ends:\n",
        "\n",
        "<img src=\"./imgs/slicing.jpg\" width=\"700px\" />\n",
        "\n",
        "One **VERY** important thing to remember is that the second index in the bracket is **NOT** included in the slice."
      ]
    },
    {
      "cell_type": "code",
      "execution_count": null,
      "metadata": {},
      "outputs": [],
      "source": [
        "my_list = [random.randint(0, 12) for i in range(0, 20)]\n",
        "my_list, my_list[0 : 5]"
      ]
    },
    {
      "cell_type": "markdown",
      "metadata": {},
      "source": [
        "As another example:  \n",
        "`my_list[4 : 10]` would be used to access $6$ elements starting at position $4$, so ...\n",
        "<br>elements $4$ - $9$ on the list. The second index in the slice, $10$, is not included."
      ]
    },
    {
      "cell_type": "code",
      "execution_count": null,
      "metadata": {},
      "outputs": [],
      "source": [
        "my_list[4 : 10]"
      ]
    },
    {
      "cell_type": "markdown",
      "metadata": {},
      "source": [
        "And, Python being Python, it tries to be smart and keep us from unnecessary typing:\n",
        "- if the first index is blank, the slice will start at the first element \n",
        "- if the second index is blank, the slice will go until the end of the list"
      ]
    },
    {
      "cell_type": "code",
      "execution_count": null,
      "metadata": {},
      "outputs": [],
      "source": [
        "my_list, my_list[0 : 5], my_list[ :5]"
      ]
    },
    {
      "cell_type": "code",
      "execution_count": null,
      "metadata": {},
      "outputs": [],
      "source": [
        "my_list[15 : 20], my_list[15: ]"
      ]
    },
    {
      "cell_type": "markdown",
      "metadata": {},
      "source": [
        "We can use negative indexes to slice from the back:\n",
        "\n",
        "`a_list[-5 : len(a_list)]` would grab the last 5 elements from the list `my_list`,\n",
        "<br>but this can be simplified with `a_list[-5: ]`."
      ]
    },
    {
      "cell_type": "code",
      "execution_count": null,
      "metadata": {},
      "outputs": [],
      "source": [
        "my_list[-5 : len(my_list)], my_list[-5: ]"
      ]
    },
    {
      "cell_type": "markdown",
      "metadata": {},
      "source": [
        "### How would we get the 5 items in the center?"
      ]
    },
    {
      "cell_type": "code",
      "execution_count": null,
      "metadata": {},
      "outputs": [],
      "source": [
        "center_index = len(my_list) // 2\n",
        "center_5 = my_list[center_index - 2 : center_index + 3]\n",
        "\n",
        "print(my_list)\n",
        "print(center_5)"
      ]
    },
    {
      "cell_type": "markdown",
      "metadata": {},
      "source": [
        "### This should make more sense now:"
      ]
    },
    {
      "cell_type": "code",
      "execution_count": null,
      "metadata": {},
      "outputs": [],
      "source": [
        "my_sorted_list[ :5], my_sorted_list[-5: ]"
      ]
    },
    {
      "cell_type": "markdown",
      "metadata": {},
      "source": [
        "### Comprehensions: creating a list from another list\n",
        "\n",
        "Let's say we want to build a new list by squaring every item inside a source list.\n",
        "\n",
        "We can do that with a for loop:"
      ]
    },
    {
      "cell_type": "code",
      "execution_count": null,
      "metadata": {},
      "outputs": [],
      "source": [
        "array = [ 1, 1, 2, 5, 14, 42, 132, 429, 1430, 4862 ]\n",
        "squared = []\n",
        "\n",
        "for v in array:\n",
        "  squared.append(v * v)\n",
        "\n",
        "print(squared)"
      ]
    },
    {
      "cell_type": "markdown",
      "metadata": {},
      "source": [
        "But, because transforming lists is such a common operation in programming, Python has some special syntax for letting us create lists from lists in a more compact manner.\n",
        "\n",
        "This is how we achieve the same result as above, but using a list comprehension:"
      ]
    },
    {
      "cell_type": "code",
      "execution_count": null,
      "metadata": {},
      "outputs": [],
      "source": [
        "array = [ 1, 1, 2, 5, 14, 42, 132, 429, 1430, 4862 ]\n",
        "squared = [ i * i for i in array ]\n",
        "print(squared)"
      ]
    },
    {
      "cell_type": "markdown",
      "metadata": {},
      "source": [
        "It's like Python lets us run a for loop inside a list declaration."
      ]
    },
    {
      "cell_type": "markdown",
      "metadata": {},
      "source": [
        "### List Comprehensions\n",
        "\n",
        "<img src=\"./imgs/list-comp-00.jpg\" height=\"150px\"/>"
      ]
    },
    {
      "cell_type": "markdown",
      "metadata": {},
      "source": [
        "This allows us to create filters by adding a predicate to the end of the comprehension expression:"
      ]
    },
    {
      "cell_type": "code",
      "execution_count": null,
      "metadata": {},
      "outputs": [],
      "source": [
        "array = [ 1, 1, 2, 5, 14, 42, 132, 429, 1430, 4862 ]\n",
        "odds = [ i for i in array if i % 2 == 1 ]\n",
        "print(odds)"
      ]
    },
    {
      "cell_type": "markdown",
      "metadata": {},
      "source": [
        "### List Comprehensions + predicate = Filtering\n",
        "\n",
        "<img src=\"./imgs/list-comp-01.jpg\" height=\"150px\"/>"
      ]
    },
    {
      "cell_type": "markdown",
      "metadata": {},
      "source": [
        "Use comprehension to create a list of values between 100 and 500 that are divisible by 3 and 7\n",
        "\n",
        "Remember that in Python the keywords for the Boolean operators are : `and`, `or`, `not`"
      ]
    },
    {
      "cell_type": "code",
      "execution_count": null,
      "metadata": {},
      "outputs": [],
      "source": [
        "# TODO: Create a list of values between 100 and 500 that are divisible by 3 and 7\n",
        "div_3_7_list = []\n",
        "\n",
        "# then print them\n",
        "print(div_3_7_list)"
      ]
    },
    {
      "cell_type": "markdown",
      "metadata": {},
      "source": [
        "### Combining lists\n",
        "\n",
        "In Python we can combine multiple lists using the `+` operator:"
      ]
    },
    {
      "cell_type": "code",
      "execution_count": null,
      "metadata": {},
      "outputs": [],
      "source": [
        "x = [1,2,3,4]\n",
        "y = [5,6,7,8]\n",
        "\n",
        "z = x + y\n",
        "print(z)"
      ]
    },
    {
      "cell_type": "markdown",
      "metadata": {},
      "source": [
        "### More list math\n",
        "\n",
        "We can also create lists of repeating values using the `*` operator:"
      ]
    },
    {
      "cell_type": "code",
      "execution_count": null,
      "metadata": {},
      "outputs": [],
      "source": [
        "list_4_10s = 4 * [10]\n",
        "\n",
        "# TODO: look at the result"
      ]
    },
    {
      "cell_type": "markdown",
      "metadata": {},
      "source": [
        "Now, create a list with 10 number 0's and 3 number 4's"
      ]
    },
    {
      "cell_type": "code",
      "execution_count": null,
      "metadata": {},
      "outputs": [],
      "source": [
        "# TODO: math with lists\n",
        "list_10_0s_3_4s = []\n",
        "\n",
        "print(list_10_0s_3_4s)"
      ]
    }
  ],
  "metadata": {
    "colab": {
      "authorship_tag": "ABX9TyMhuytAcbldogywX05phpmj",
      "provenance": []
    },
    "kernelspec": {
      "display_name": "Python 3",
      "name": "python3"
    },
    "language_info": {
      "codemirror_mode": {
        "name": "ipython",
        "version": 3
      },
      "file_extension": ".py",
      "mimetype": "text/x-python",
      "name": "python",
      "nbconvert_exporter": "python",
      "pygments_lexer": "ipython3",
      "version": "3.10.15"
    }
  },
  "nbformat": 4,
  "nbformat_minor": 0
}
